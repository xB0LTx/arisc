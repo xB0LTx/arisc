{
 "cells": [
  {
   "metadata": {},
   "cell_type": "markdown",
   "source": [
    "# Laboratorium 3\n",
    "## Marcin Ogórkiewicz\n",
    "### 21.05.2025"
   ],
   "id": "c6a1607ef8c3f826"
  },
  {
   "metadata": {},
   "cell_type": "markdown",
   "source": "### Zadanie 1",
   "id": "8ceba0d93e431771"
  },
  {
   "metadata": {},
   "cell_type": "markdown",
   "source": "### Zadanie 2",
   "id": "8a17297ddf09348d"
  },
  {
   "metadata": {},
   "cell_type": "markdown",
   "source": "### Zadanie 3",
   "id": "712b8b23f206c72"
  },
  {
   "metadata": {},
   "cell_type": "markdown",
   "source": "### Zadanie 4",
   "id": "cf50142585de3895"
  },
  {
   "metadata": {},
   "cell_type": "markdown",
   "source": "### Wnioski",
   "id": "7b50c267a8eda054"
  }
 ],
 "metadata": {
  "kernelspec": {
   "display_name": "Python 3",
   "language": "python",
   "name": "python3"
  },
  "language_info": {
   "codemirror_mode": {
    "name": "ipython",
    "version": 2
   },
   "file_extension": ".py",
   "mimetype": "text/x-python",
   "name": "python",
   "nbconvert_exporter": "python",
   "pygments_lexer": "ipython2",
   "version": "2.7.6"
  }
 },
 "nbformat": 4,
 "nbformat_minor": 5
}
